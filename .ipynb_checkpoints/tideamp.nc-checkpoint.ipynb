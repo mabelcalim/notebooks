{
 "metadata": {
  "name": "",
  "signature": "sha256:c9195a36d00f18907b80d84bc5e1b223a81241bd7c81a596fdc0520d0db18986"
 },
 "nbformat": 3,
 "nbformat_minor": 0,
 "worksheets": [
  {
   "cells": [
    {
     "cell_type": "markdown",
     "metadata": {},
     "source": [
      "#regriding tideamp.nc MOM4p1\n",
      "### using TPX7.2 OSU Tidal Data Inversion form Oregon as a example"
     ]
    },
    {
     "cell_type": "markdown",
     "metadata": {},
     "source": [
      ">If you have problems to regrid the tideamp.nc file, here I present a solution to this problem.     \n",
      "> More info please contact me: Mabel Calim Costa - <mabelcalim@gmail.com>\n"
     ]
    },
    {
     "cell_type": "markdown",
     "metadata": {},
     "source": [
      "The solution is simple. I create a new netcdf file where I allocate the tide amplitude information with new coordinates. So let's get started!"
     ]
    },
    {
     "cell_type": "code",
     "collapsed": false,
     "input": [
      "import netCDF4\n",
      "import numpy as np\n",
      "import matplotlib.pyplot as plt\n",
      "import os\n",
      "import sys\n",
      "import netCDF4\n"
     ],
     "language": "python",
     "metadata": {},
     "outputs": [],
     "prompt_number": 24
    },
    {
     "cell_type": "markdown",
     "metadata": {},
     "source": [
      "Create a new netcdf file - tideamp_core1.nc \n",
      "* first - regrid the original tideamp.nc from om3_core1 for you own grid_spec.nc\n",
      "* then  - create a new netcdf change the name of the variable amp to tideamp!\n",
      "\n",
      "> Note that the key variable is 'tideamp', shown below.\n"
     ]
    },
    {
     "cell_type": "code",
     "collapsed": false,
     "input": [
      "# find the path where is your old tideamp.nc from OM3_CORE1 and regrid it!. \n",
      "data = netCDF4.Dataset('/path/tideamp.nc','r+') # regrided om3_core1 tideamp.nc for your own grid\n",
      "#data.variables\n",
      "data_amp = netCDF4.Dataset('/path/tideamp_m2.nc','r+') # M2 amplitude from tidal model with 1/4 degree of resolution"
     ],
     "language": "python",
     "metadata": {},
     "outputs": [],
     "prompt_number": 25
    },
    {
     "cell_type": "markdown",
     "metadata": {},
     "source": [
      "> *tideamp* have to be the name of the variable! Otherwise it will **not be read by MOM4p1**."
     ]
    },
    {
     "cell_type": "code",
     "collapsed": false,
     "input": [
      "# create fine netcdf\n",
      "ncfile = netCDF4.Dataset('tideamp_m2_new.nc','w')\n",
      "print \"-- Open file\"\n",
      "\n",
      "lat_dim = ncfile.createDimension('grid_y_T',len(data.variables['grid_y_T'][:]))   # latitude axis\n",
      "lon_dim = ncfile.createDimension('grid_x_T',len(data.variables['grid_x_T'][:]))     # longitude axis\n",
      "x_T_dim = ncfile.createDimension('x_T',len(data.variables['x_T'][:]))\n",
      "y_T_dim = ncfile.createDimension('y_T',len(data.variables['y_T'][:]))\n",
      "#wet = ncfile.createDimension('wet',len(data.variables['wet'][:]))\n",
      "\n",
      "# Define two variables with the same names as dimensions,\n",
      "# a conventional way to define \"coordinate variables\".\n",
      "grid_x_T = ncfile.createVariable('grid_x_T', 'f4', ('grid_x_T',))\n",
      "grid_x_T.units = 'degrees_east'\n",
      "grid_x_T.long_name = 'Nominal Longitude of T-cell center'\n",
      "grid_x_T.cartesian_axis = \"X\"\n",
      "grid_x_T[:] = data.variables['grid_x_T'][:]\n",
      "\n",
      "grid_y_T = ncfile.createVariable('grid_y_T', 'f4', ('grid_y_T',))\n",
      "grid_y_T.units = 'degrees_north'\n",
      "grid_y_T.long_name = 'Nominal Latitude of T-cell center'\n",
      "grid_y_T.cartesian_axis = \"Y\"\n",
      "grid_y_T[:] = data.variables['grid_y_T'][:]\n",
      "\n",
      "x_T = ncfile.createVariable('x_T', 'f4', ('grid_y_T', 'grid_x_T'))\n",
      "x_T.units = 'degrees_east'\n",
      "x_T.long_name = 'Geographic longitude of T_cell centers'\n",
      "x_T[:] = data.variables['x_T'][:]\n",
      "\n",
      "y_T = ncfile.createVariable('y_T', 'f4', ('grid_y_T', 'grid_x_T'))\n",
      "y_T.units = 'degree_north'\n",
      "y_T.long_name = 'Geographic latitude of T_cell centers'\n",
      "y_T[:] = data.variables['y_T'][:]\n",
      "\n",
      "\n",
      "#\n",
      "\n",
      "print \"-- Create coordinates\"\n",
      " \n",
      "# Define a 3D variable to hold the data\n",
      "amp = ncfile.createVariable('tideamp','f4',('grid_y_T', 'grid_x_T'))\n",
      "amp.units = 'meters'\n",
      "amp.long_name = 'tidal M2 component amplitude'\n",
      "amp.missing_value = -1.e+36\n",
      "# writing data\n",
      "\n",
      "amp[:,:] = data_amp.variables['amp'][:-1,:]     #adjusting the TPXO7.2 OSU Tidal Data to the new grid\n",
      "print \"-- Create tideamp variable\"\n",
      "\n",
      "ncfile.close()\n",
      "print \"-- Created file\""
     ],
     "language": "python",
     "metadata": {},
     "outputs": [
      {
       "output_type": "stream",
       "stream": "stdout",
       "text": [
        "-- Open file\n",
        "-- Create coordinates"
       ]
      },
      {
       "output_type": "stream",
       "stream": "stdout",
       "text": [
        "\n",
        "-- Create tideamp variable\n",
        "-- Created file\n"
       ]
      }
     ],
     "prompt_number": 29
    }
   ],
   "metadata": {}
  }
 ]
}