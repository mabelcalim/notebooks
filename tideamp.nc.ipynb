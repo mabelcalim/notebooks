{
 "metadata": {
  "name": "tideamp.nc"
 },
 "nbformat": 3,
 "nbformat_minor": 0,
 "worksheets": [
  {
   "cells": [
    {
     "cell_type": "heading",
     "level": 1,
     "metadata": {},
     "source": [
      "regriding tideamp.nc MOM4p1"
     ]
    },
    {
     "cell_type": "markdown",
     "metadata": {},
     "source": [
      ">If you have problems to regrid the tideamp.nc file, here I present a solution to this problem.     \n",
      "> More info please contact me: Mabel Calim Costa - <mabelcalim@gmail.com>\n"
     ]
    },
    {
     "cell_type": "markdown",
     "metadata": {},
     "source": [
      "The solution is simple. I create a new netcdf file where I allocate the tide amplitude information with new coordinates. So let's get started!"
     ]
    },
    {
     "cell_type": "code",
     "collapsed": false,
     "input": [
      "import netCDF4\n",
      "import numpy as np\n",
      "import matplotlib.pyplot as plt\n",
      "import os\n",
      "import sys\n",
      "import netCDF4\n"
     ],
     "language": "python",
     "metadata": {},
     "outputs": [],
     "prompt_number": 5
    },
    {
     "cell_type": "markdown",
     "metadata": {},
     "source": [
      "Create a new netcdf file - tideamp_core1.nc \n",
      "\n",
      "> Note that the key variable is 'tideamp', shown below."
     ]
    },
    {
     "cell_type": "code",
     "collapsed": false,
     "input": [
      "# find the path where is your old tideamp.nc from OM3_CORE1. \n",
      "data = netCDF4.Dataset('/stornext/online2/ocean/database/workTidesbase/INPUT/tideamp_core1.nc','r+')\n",
      "data.variables"
     ],
     "language": "python",
     "metadata": {},
     "outputs": [
      {
       "metadata": {},
       "output_type": "pyout",
       "prompt_number": 6,
       "text": [
        "OrderedDict([(u'alon', <netCDF4.Variable object at 0x2019dd0>), (u'alat', <netCDF4.Variable object at 0x2019cd0>), (u'wet', <netCDF4.Variable object at 0x201d4d0>), (u'tideamp', <netCDF4.Variable object at 0x201dcd0>)])"
       ]
      }
     ],
     "prompt_number": 6
    },
    {
     "cell_type": "markdown",
     "metadata": {},
     "source": [
      "> *tideamp* have to be the name of the variable! Otherwise it will **not be read by MOM4p1**."
     ]
    },
    {
     "cell_type": "code",
     "collapsed": false,
     "input": [
      "# create fine netcdf\n",
      "ncfile = netCDF4.Dataset('tideamp.nc','w')\n",
      "print \"-- Open file\"\n",
      "\n",
      "lat_dim = ncfile.createDimension('lat',len(data.variables['tideamp'][:,0]))   # latitude axis\n",
      "lon_dim = ncfile.createDimension('lon',len(data.variables['tideamp'][0]))     # longitude axis\n",
      "\n",
      "# Define two variables with the same names as dimensions,\n",
      "# a conventional way to define \"coordinate variables\".\n",
      "lat = ncfile.createVariable('lat', 'f4', ('lat',))\n",
      "lat.units = 'degrees_north'\n",
      "lat.standard_name = 'latitude'\n",
      "lon = ncfile.createVariable('lon', 'f4', ('lon',))\n",
      "lon.units = 'degrees_east'\n",
      "lon.standard_name = 'longitude'\n",
      "print \"-- Create coordinates\"\n",
      " \n",
      "# Define a 3D variable to hold the data\n",
      "amp = ncfile.createVariable('tideamp','f4',('lat','lon'))\n",
      "amp.units = 'meters'\n",
      "amp.standard_name = 'tidal component amplitude'\n",
      "\n",
      "# writing data\n",
      "amp[:,:] = data.variables['tideamp']\n",
      "print \"-- Create tideamp variable\"\n",
      "\n",
      "ncfile.close()\n",
      "print \"-- Created file\""
     ],
     "language": "python",
     "metadata": {},
     "outputs": [
      {
       "output_type": "stream",
       "stream": "stdout",
       "text": [
        "-- Open file\n",
        "-- Create coordinates\n",
        "-- Create tideamp variable\n",
        "-- Created file\n"
       ]
      }
     ],
     "prompt_number": 7
    },
    {
     "cell_type": "markdown",
     "metadata": {},
     "source": [
      "Now submit this file to regrid_2d  \n",
      "And remember:   \n",
      "    > src_field_name: tideamp\n",
      "    > dest_field_name: tideamp    "
     ]
    },
    {
     "cell_type": "code",
     "collapsed": false,
     "input": [],
     "language": "python",
     "metadata": {},
     "outputs": []
    }
   ],
   "metadata": {}
  }
 ]
}