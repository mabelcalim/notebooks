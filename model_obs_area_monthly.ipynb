{
 "metadata": {
  "name": "model_obs_area_monthly"
 },
 "nbformat": 3,
 "nbformat_minor": 0,
 "worksheets": [
  {
   "cells": [
    {
     "cell_type": "raw",
     "metadata": {},
     "source": "\"\"\"\n1 - Concatenate models data\nncrat cgcm2.2_tempsalt_*.nc  /path_in_tupa/cgcm2.2_tempsalt.nc \n2-  Data from daily to monthly in some region!\nas a example, in NOAA DATA areas (TAO,PIRATA and RAMA - see: http://www.pmel.noaa.gov/tao/data_deliv/deliv.html)\n|\n|\nV\n\"\"\""
    },
    {
     "cell_type": "code",
     "collapsed": false,
     "input": "%pylab inline\nfrom numpy import *\nimport numpy as np\nfrom numpy import ma\nfrom netCDF4 import Dataset\n\nimport pylab\nfrom pylab import *\nimport matplotlib.pyplot as plt\nimport pickle\nfrom cStringIO import StringIO",
     "language": "python",
     "metadata": {},
     "outputs": [
      {
       "output_type": "stream",
       "stream": "stdout",
       "text": "Populating the interactive namespace from numpy and matplotlib\n"
      }
     ],
     "prompt_number": 1
    },
    {
     "cell_type": "code",
     "collapsed": false,
     "input": "def nino34_timemean(path,var):\n        from netCDF4 import Dataset\n        f = Dataset(path)\n        # extract the nearest point of NINO 3-4 in the model\n        lon_min= np.abs(f.variables['xt_ocean'][:] -(-170)).argmin()\n        lon_max= np.abs(f.variables['xt_ocean'][:] -(-120)).argmin()\n        lat_min= np.abs(f.variables['yt_ocean'][:] -(-5)).argmin()\n        lat_max= np.abs(f.variables['yt_ocean'][:] -(5)).argmin()\n        #extract this points from the var chosen\n        #v = f.variables['var'][:,0,lat_min:lat_max,lon_min:lon_max]\n        v =[]\n        for t in range(0,len(f.variables[var][:])):\n            v.append(ma.mean(ma.masked_values(f.variables[var][t,0,lat_min:lat_max,lon_min:lon_max],f.variables[var].missing_value)))\n        return v  ",
     "language": "python",
     "metadata": {},
     "outputs": [],
     "prompt_number": 2
    },
    {
     "cell_type": "code",
     "collapsed": false,
     "input": "def dipolo_timemean(path,var):\n        from netCDF4 import Dataset\n        f = Dataset(path)\n        # extract the nearest point of NINO 3-4 in the model\n        lon_minN= np.abs(f.variables['xt_ocean'][:] -(-55)).argmin()\n        lon_maxN= np.abs(f.variables['xt_ocean'][:] -(-15)).argmin()\n        lat_minN= np.abs(f.variables['yt_ocean'][:] -(5)).argmin()\n        lat_maxN= np.abs(f.variables['yt_ocean'][:] -(25)).argmin()\n        lon_minS= np.abs(f.variables['xt_ocean'][:] -(-30)).argmin()\n        lon_maxS= np.abs(f.variables['xt_ocean'][:] -(10)).argmin()\n        lat_minS= np.abs(f.variables['yt_ocean'][:] -(-20)).argmin()\n        lat_maxS= np.abs(f.variables['yt_ocean'][:] -(0)).argmin()        \n        #extract this points from the var chosen\n        #v = f.variables['var'][:,0,lat_min:lat_max,lon_min:lon_max]\n        vn,vs =[],[]\n        for t in range(0,len(f.variables[var][:])):\n            vn.append(ma.mean(ma.masked_values(f.variables[var][t,0,lat_minN:lat_maxN,lon_minN:lon_maxN],f.variables[var].missing_value)))\n            vs.append(ma.mean(ma.masked_values(f.variables[var][t,0,lat_minS:lat_maxS,lon_minS:lon_maxS],f.variables[var].missing_value)))\n        return vn,vs",
     "language": "python",
     "metadata": {},
     "outputs": [],
     "prompt_number": 3
    },
    {
     "cell_type": "code",
     "collapsed": false,
     "input": "def atlantic_timemean(path,var):\n        from netCDF4 import Dataset\n        f = Dataset(path)\n        # extract the nearest point of NINO 3-4 in the model\n        lon_minN= np.abs(f.variables['xt_ocean'][:] -(-40)).argmin()\n        lon_maxN= np.abs(f.variables['xt_ocean'][:] -(8)).argmin()\n        lat_minN= np.abs(f.variables['yt_ocean'][:] -(-20)).argmin()\n        lat_maxN= np.abs(f.variables['yt_ocean'][:] -(20)).argmin()\n \n        #extract this points from the var chosen\n        #v = f.variables['var'][:,0,lat_min:lat_max,lon_min:lon_max]\n        va =[]\n        for t in range(0,len(f.variables[var][:])):\n            va.append(ma.mean(ma.masked_values(f.variables[var][t,0,lat_minN:lat_maxN,lon_minN:lon_maxN],f.variables[var].missing_value)))\n            \n        return va",
     "language": "python",
     "metadata": {},
     "outputs": [],
     "prompt_number": 4
    },
    {
     "cell_type": "code",
     "collapsed": false,
     "input": "def indic_timemean(path,var):\n        from netCDF4 import Dataset\n        f = Dataset(path)\n        # extract the nearest point of NINO 3-4 in the model\n        lon_minN= np.abs(f.variables['xt_ocean'][:] -(55)).argmin()\n        lon_maxN= np.abs(f.variables['xt_ocean'][:] -(100)).argmin()\n        lat_minN= np.abs(f.variables['yt_ocean'][:] -(-25)).argmin()\n        lat_maxN= np.abs(f.variables['yt_ocean'][:] -(15)).argmin()\n \n        #extract this points from the var chosen\n        #v = f.variables['var'][:,0,lat_min:lat_max,lon_min:lon_max]\n        vi =[]\n        for t in range(0,len(f.variables[var][:])):\n            vi.append(ma.mean(ma.masked_values(f.variables[var][t,0,lat_minN:lat_maxN,lon_minN:lon_maxN],f.variables[var].missing_value)))\n            \n        return vi",
     "language": "python",
     "metadata": {},
     "outputs": [],
     "prompt_number": 5
    },
    {
     "cell_type": "code",
     "collapsed": false,
     "input": "def OBS_open(path,var):\n        from netCDF4 import Dataset\n        #data = 346         # TAO to start in 1980\n        data = 82  # PIRATAto start in 1998\n        #data=47       # RAMAto start 2001\n        f = Dataset(path)\n        v =[]\n        jan,fev,mar,apr,may = [],[],[],[],[]\n        jun,jul,aug,sep = [],[],[],[]\n        octo,nov,dec = [],[],[]\n        month = []\n        for t in range(data,len(f.variables[var][:])):      \n            v_mask =ma.masked_values(f.variables[var][t,:,:],1e+35)\n            v.append(v_mask.mean())   # area mean\n        \n        for t in range(data,len(f.variables[var][:]),365): \n            month.append(np.mean(v[t:t+31]))\n            if (t % 4 == 0):\n                month.append(ma.mean(v[t+31:t+60]))\n                month.append(ma.mean(v[t+60:t+91]))\n                month.append(ma.mean(v[t+91:t+121]))\n                month.append(ma.mean(v[t+121:t+152]))\n                month.append(ma.mean(v[t+152:t+182]))\n                month.append(ma.mean(v[t+182:t+213]))\n                month.append(ma.mean(v[t+213:t+244]))\n                month.append(ma.mean(v[t+244:t+274]))\n                month.append(ma.mean(v[t+274:t+305]))\n                month.append(ma.mean(v[t+305:t+335]))\n                month.append(ma.mean(v[t+335:t+366]))\n            else :\n                month.append(ma.mean(v[t+31:t+59]))\n                month.append(ma.mean(v[t+59:t+90]))\n                month.append(ma.mean(v[t+90:t+120]))\n                month.append(ma.mean(v[t+120:t+151]))\n                month.append(ma.mean(v[t+151:t+181]))\n                month.append(ma.mean(v[t+181:t+212]))\n                month.append(ma.mean(v[t+212:t+243]))\n                month.append(ma.mean(v[t+243:t+273]))\n                month.append(ma.mean(v[t+273:t+304]))\n                month.append(ma.mean(v[t+304:t+334]))\n                month.append(ma.mean(v[t+334:t+365]))\n        #for n,i in enumerate (month):\n        #    if i == nan: \n        #        month[n] = mean(month)\n        return month",
     "language": "python",
     "metadata": {},
     "outputs": [],
     "prompt_number": 6
    },
    {
     "cell_type": "code",
     "collapsed": false,
     "input": "#TAO = OBS_open('/path_in_tupa/sst_TAO_all.cdf',u'T_20')\n#pickle.dump(TAO, open( \"TAO.p\", \"wb\" ) )\n\nPIRATA = OBS_open('/path_in_tupa/sst_PIRATA_all.cdf',u'T_20')\npickle.dump(PIRATA, open( \"PIRATA.p\", \"wb\" ) )\n\n#RAMA = OBS_open('/path_in_tupa/sst_RAMA_all.cdf',u'T_20')\n#pickle.dump(RAMA, open( \"RAMA.p\", \"wb\" ) )\n\nvar = atlantic_timemean('/path_in_tupa/cgcm2.2_tempsalt.nc','temp') #remember step 1\npickle.dump(var, open( \"var.p\", \"wb\" ) )\nvar_open = pickle.load(open(\"var.p\",\"rb\"))\n",
     "language": "python",
     "metadata": {},
     "outputs": [
      {
       "ename": "RuntimeError",
       "evalue": "No such file or directory",
       "output_type": "pyerr",
       "traceback": [
        "\u001b[1;31m---------------------------------------------------------------------------\u001b[0m\n\u001b[1;31mRuntimeError\u001b[0m                              Traceback (most recent call last)",
        "\u001b[1;32m<ipython-input-7-afa2509397af>\u001b[0m in \u001b[0;36m<module>\u001b[1;34m()\u001b[0m\n\u001b[0;32m      2\u001b[0m \u001b[1;31m#pickle.dump(TAO, open( \"TAO.p\", \"wb\" ) )\u001b[0m\u001b[1;33m\u001b[0m\u001b[1;33m\u001b[0m\u001b[0m\n\u001b[0;32m      3\u001b[0m \u001b[1;33m\u001b[0m\u001b[0m\n\u001b[1;32m----> 4\u001b[1;33m \u001b[0mPIRATA\u001b[0m \u001b[1;33m=\u001b[0m \u001b[0mOBS_open\u001b[0m\u001b[1;33m(\u001b[0m\u001b[1;34m'/path_in_tupa/sst_PIRATA_all.cdf'\u001b[0m\u001b[1;33m,\u001b[0m\u001b[1;34mu'T_20'\u001b[0m\u001b[1;33m)\u001b[0m\u001b[1;33m\u001b[0m\u001b[0m\n\u001b[0m\u001b[0;32m      5\u001b[0m \u001b[0mpickle\u001b[0m\u001b[1;33m.\u001b[0m\u001b[0mdump\u001b[0m\u001b[1;33m(\u001b[0m\u001b[0mPIRATA\u001b[0m\u001b[1;33m,\u001b[0m \u001b[0mopen\u001b[0m\u001b[1;33m(\u001b[0m \u001b[1;34m\"PIRATA.p\"\u001b[0m\u001b[1;33m,\u001b[0m \u001b[1;34m\"wb\"\u001b[0m \u001b[1;33m)\u001b[0m \u001b[1;33m)\u001b[0m\u001b[1;33m\u001b[0m\u001b[0m\n\u001b[0;32m      6\u001b[0m \u001b[1;33m\u001b[0m\u001b[0m\n",
        "\u001b[1;32m<ipython-input-6-a3c01feb1f26>\u001b[0m in \u001b[0;36mOBS_open\u001b[1;34m(path, var)\u001b[0m\n\u001b[0;32m      4\u001b[0m         \u001b[0mdata\u001b[0m \u001b[1;33m=\u001b[0m \u001b[1;36m82\u001b[0m  \u001b[1;31m# PIRATAto start in 1998\u001b[0m\u001b[1;33m\u001b[0m\u001b[0m\n\u001b[0;32m      5\u001b[0m         \u001b[1;31m#data=47       # RAMAto start 2001\u001b[0m\u001b[1;33m\u001b[0m\u001b[1;33m\u001b[0m\u001b[0m\n\u001b[1;32m----> 6\u001b[1;33m         \u001b[0mf\u001b[0m \u001b[1;33m=\u001b[0m \u001b[0mDataset\u001b[0m\u001b[1;33m(\u001b[0m\u001b[0mpath\u001b[0m\u001b[1;33m)\u001b[0m\u001b[1;33m\u001b[0m\u001b[0m\n\u001b[0m\u001b[0;32m      7\u001b[0m         \u001b[0mv\u001b[0m \u001b[1;33m=\u001b[0m\u001b[1;33m[\u001b[0m\u001b[1;33m]\u001b[0m\u001b[1;33m\u001b[0m\u001b[0m\n\u001b[0;32m      8\u001b[0m         \u001b[0mjan\u001b[0m\u001b[1;33m,\u001b[0m\u001b[0mfev\u001b[0m\u001b[1;33m,\u001b[0m\u001b[0mmar\u001b[0m\u001b[1;33m,\u001b[0m\u001b[0mapr\u001b[0m\u001b[1;33m,\u001b[0m\u001b[0mmay\u001b[0m \u001b[1;33m=\u001b[0m \u001b[1;33m[\u001b[0m\u001b[1;33m]\u001b[0m\u001b[1;33m,\u001b[0m\u001b[1;33m[\u001b[0m\u001b[1;33m]\u001b[0m\u001b[1;33m,\u001b[0m\u001b[1;33m[\u001b[0m\u001b[1;33m]\u001b[0m\u001b[1;33m,\u001b[0m\u001b[1;33m[\u001b[0m\u001b[1;33m]\u001b[0m\u001b[1;33m,\u001b[0m\u001b[1;33m[\u001b[0m\u001b[1;33m]\u001b[0m\u001b[1;33m\u001b[0m\u001b[0m\n",
        "\u001b[1;32m/scratchin/prod/mbscg/home/mbscg/software/anaconda_1.4/lib/python2.7/site-packages/netCDF4.so\u001b[0m in \u001b[0;36mnetCDF4.Dataset.__init__ (netCDF4.c:19148)\u001b[1;34m()\u001b[0m\n",
        "\u001b[1;31mRuntimeError\u001b[0m: No such file or directory"
       ]
      }
     ],
     "prompt_number": 7
    },
    {
     "cell_type": "code",
     "collapsed": false,
     "input": "",
     "language": "python",
     "metadata": {},
     "outputs": []
    }
   ],
   "metadata": {}
  }
 ]
}
